{
 "cells": [
  {
   "cell_type": "code",
   "execution_count": 1,
   "id": "844a90b6",
   "metadata": {},
   "outputs": [],
   "source": [
    "import pandas as pd"
   ]
  },
  {
   "cell_type": "code",
   "execution_count": 15,
   "id": "3174c8a4",
   "metadata": {},
   "outputs": [],
   "source": [
    "df=pd.read_csv('D:/2021.csv') "
   ]
  },
  {
   "cell_type": "code",
   "execution_count": 16,
   "id": "18fcd217",
   "metadata": {},
   "outputs": [
    {
     "data": {
      "text/html": [
       "<div>\n",
       "<style scoped>\n",
       "    .dataframe tbody tr th:only-of-type {\n",
       "        vertical-align: middle;\n",
       "    }\n",
       "\n",
       "    .dataframe tbody tr th {\n",
       "        vertical-align: top;\n",
       "    }\n",
       "\n",
       "    .dataframe thead th {\n",
       "        text-align: right;\n",
       "    }\n",
       "</style>\n",
       "<table border=\"1\" class=\"dataframe\">\n",
       "  <thead>\n",
       "    <tr style=\"text-align: right;\">\n",
       "      <th></th>\n",
       "      <th>accident_index</th>\n",
       "      <th>Vehicle_Reference</th>\n",
       "      <th>Casualty_Reference</th>\n",
       "      <th>Adjusted_Serious</th>\n",
       "      <th>Adjusted_Slight</th>\n",
       "      <th>Injury_Based</th>\n",
       "    </tr>\n",
       "  </thead>\n",
       "  <tbody>\n",
       "    <tr>\n",
       "      <th>0</th>\n",
       "      <td>200401BS00001</td>\n",
       "      <td>1</td>\n",
       "      <td>1</td>\n",
       "      <td>0.241202</td>\n",
       "      <td>0.758798</td>\n",
       "      <td>0</td>\n",
       "    </tr>\n",
       "    <tr>\n",
       "      <th>1</th>\n",
       "      <td>200401BS00002</td>\n",
       "      <td>1</td>\n",
       "      <td>1</td>\n",
       "      <td>1.000000</td>\n",
       "      <td>0.000000</td>\n",
       "      <td>0</td>\n",
       "    </tr>\n",
       "    <tr>\n",
       "      <th>2</th>\n",
       "      <td>200401BS00003</td>\n",
       "      <td>1</td>\n",
       "      <td>1</td>\n",
       "      <td>0.060070</td>\n",
       "      <td>0.939930</td>\n",
       "      <td>0</td>\n",
       "    </tr>\n",
       "    <tr>\n",
       "      <th>3</th>\n",
       "      <td>200401BS00003</td>\n",
       "      <td>1</td>\n",
       "      <td>2</td>\n",
       "      <td>0.051357</td>\n",
       "      <td>0.948643</td>\n",
       "      <td>0</td>\n",
       "    </tr>\n",
       "    <tr>\n",
       "      <th>4</th>\n",
       "      <td>200401BS00004</td>\n",
       "      <td>1</td>\n",
       "      <td>1</td>\n",
       "      <td>0.196381</td>\n",
       "      <td>0.803619</td>\n",
       "      <td>0</td>\n",
       "    </tr>\n",
       "  </tbody>\n",
       "</table>\n",
       "</div>"
      ],
      "text/plain": [
       "  accident_index  Vehicle_Reference  Casualty_Reference  Adjusted_Serious  \\\n",
       "0  200401BS00001                  1                   1          0.241202   \n",
       "1  200401BS00002                  1                   1          1.000000   \n",
       "2  200401BS00003                  1                   1          0.060070   \n",
       "3  200401BS00003                  1                   2          0.051357   \n",
       "4  200401BS00004                  1                   1          0.196381   \n",
       "\n",
       "   Adjusted_Slight  Injury_Based  \n",
       "0         0.758798             0  \n",
       "1         0.000000             0  \n",
       "2         0.939930             0  \n",
       "3         0.948643             0  \n",
       "4         0.803619             0  "
      ]
     },
     "execution_count": 16,
     "metadata": {},
     "output_type": "execute_result"
    }
   ],
   "source": [
    "df.head()"
   ]
  },
  {
   "cell_type": "code",
   "execution_count": 4,
   "id": "4d544a1e",
   "metadata": {},
   "outputs": [
    {
     "name": "stderr",
     "output_type": "stream",
     "text": [
      "Matplotlib is building the font cache; this may take a moment.\n"
     ]
    }
   ],
   "source": [
    "import matplotlib.pyplot as plt\n",
    "from sklearn.cluster import SpectralClustering\n",
    "from sklearn.preprocessing import StandardScaler, normalize\n",
    "from sklearn.decomposition import PCA\n",
    "from sklearn.metrics import silhouette_score"
   ]
  },
  {
   "cell_type": "code",
   "execution_count": 17,
   "id": "38e7fddb",
   "metadata": {},
   "outputs": [],
   "source": [
    "X = df.drop(['accident_index'], axis =1)"
   ]
  },
  {
   "cell_type": "code",
   "execution_count": 18,
   "id": "bb46bb22",
   "metadata": {},
   "outputs": [
    {
     "name": "stdout",
     "output_type": "stream",
     "text": [
      "<class 'pandas.core.frame.DataFrame'>\n",
      "RangeIndex: 3555512 entries, 0 to 3555511\n",
      "Data columns (total 5 columns):\n",
      " #   Column              Dtype  \n",
      "---  ------              -----  \n",
      " 0   Vehicle_Reference   int64  \n",
      " 1   Casualty_Reference  int64  \n",
      " 2   Adjusted_Serious    float64\n",
      " 3   Adjusted_Slight     float64\n",
      " 4   Injury_Based        int64  \n",
      "dtypes: float64(2), int64(3)\n",
      "memory usage: 135.6 MB\n"
     ]
    }
   ],
   "source": [
    "X.info()"
   ]
  },
  {
   "cell_type": "code",
   "execution_count": 19,
   "id": "880c0411",
   "metadata": {},
   "outputs": [],
   "source": [
    "X = X.head(10000)"
   ]
  },
  {
   "cell_type": "code",
   "execution_count": 20,
   "id": "e3b909c3",
   "metadata": {},
   "outputs": [
    {
     "data": {
      "text/html": [
       "<div>\n",
       "<style scoped>\n",
       "    .dataframe tbody tr th:only-of-type {\n",
       "        vertical-align: middle;\n",
       "    }\n",
       "\n",
       "    .dataframe tbody tr th {\n",
       "        vertical-align: top;\n",
       "    }\n",
       "\n",
       "    .dataframe thead th {\n",
       "        text-align: right;\n",
       "    }\n",
       "</style>\n",
       "<table border=\"1\" class=\"dataframe\">\n",
       "  <thead>\n",
       "    <tr style=\"text-align: right;\">\n",
       "      <th></th>\n",
       "      <th>P1</th>\n",
       "      <th>P2</th>\n",
       "    </tr>\n",
       "  </thead>\n",
       "  <tbody>\n",
       "    <tr>\n",
       "      <th>0</th>\n",
       "      <td>-0.461688</td>\n",
       "      <td>0.661216</td>\n",
       "    </tr>\n",
       "    <tr>\n",
       "      <th>1</th>\n",
       "      <td>0.553430</td>\n",
       "      <td>1.110547</td>\n",
       "    </tr>\n",
       "  </tbody>\n",
       "</table>\n",
       "</div>"
      ],
      "text/plain": [
       "         P1        P2\n",
       "0 -0.461688  0.661216\n",
       "1  0.553430  1.110547"
      ]
     },
     "execution_count": 20,
     "metadata": {},
     "output_type": "execute_result"
    }
   ],
   "source": [
    "scaler = StandardScaler()\n",
    "X_scaled = scaler.fit_transform(X)\n",
    "\n",
    "X_normalized = normalize(X_scaled) \n",
    "  \n",
    "X_normalized = pd.DataFrame(X_normalized) \n",
    "  \n",
    "pca = PCA(n_components = 2) \n",
    "X_principal = pca.fit_transform(X_normalized) \n",
    "X_principal = pd.DataFrame(X_principal) \n",
    "X_principal.columns = ['P1', 'P2'] \n",
    "  \n",
    "X_principal.head(2) "
   ]
  },
  {
   "cell_type": "code",
   "execution_count": 22,
   "id": "f85a9de6",
   "metadata": {},
   "outputs": [],
   "source": [
    "spectral_model_rbf = SpectralClustering(n_clusters = 2, affinity ='rbf') \n",
    "  \n",
    "labels_rbf = spectral_model_rbf.fit_predict(X_principal)"
   ]
  },
  {
   "cell_type": "code",
   "execution_count": 24,
   "id": "3f512461",
   "metadata": {},
   "outputs": [
    {
     "data": {
      "text/plain": [
       "array([0, 1, 0, ..., 0, 0, 1])"
      ]
     },
     "execution_count": 24,
     "metadata": {},
     "output_type": "execute_result"
    }
   ],
   "source": [
    "labels_rbf"
   ]
  },
  {
   "cell_type": "code",
   "execution_count": null,
   "id": "3714615a",
   "metadata": {},
   "outputs": [],
   "source": []
  }
 ],
 "metadata": {
  "kernelspec": {
   "display_name": "Python 3 (ipykernel)",
   "language": "python",
   "name": "python3"
  },
  "language_info": {
   "codemirror_mode": {
    "name": "ipython",
    "version": 3
   },
   "file_extension": ".py",
   "mimetype": "text/x-python",
   "name": "python",
   "nbconvert_exporter": "python",
   "pygments_lexer": "ipython3",
   "version": "3.9.12"
  }
 },
 "nbformat": 4,
 "nbformat_minor": 5
}
